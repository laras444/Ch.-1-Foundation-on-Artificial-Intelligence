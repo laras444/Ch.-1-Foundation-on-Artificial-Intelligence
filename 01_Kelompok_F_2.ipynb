{
  "nbformat": 4,
  "nbformat_minor": 0,
  "metadata": {
    "colab": {
      "provenance": []
    },
    "kernelspec": {
      "name": "python3",
      "display_name": "Python 3"
    },
    "language_info": {
      "name": "python"
    }
  },
  "cells": [
    {
      "cell_type": "markdown",
      "source": [
        "Paper Money: <br>\n",
        "1. Rp 100,000    \n",
        "2. Rp 50,000   \n",
        "3. Rp 20,000   \n",
        "4. Rp 10,000   \n",
        "5. Rp 5,000   \n",
        "6. Rp 2,000\n",
        "<br>\n",
        "<br>\n",
        "Coins: <br>\n",
        "1. Rp 1,000  \n",
        "2. Rp 500  \n",
        "3. Rp 200\n",
        "4. Rp 100  \n",
        "*To make it easier, we assume that all Rp. 1000 denominations are coins.\n",
        "\n",
        "There are circumstances where the bank must liquidate all customer savings in the form of money, if the customer requests it.\n",
        "And imagine this is happening right now in front of you, help the bank to calculate how many denominations of money are needed.\n",
        "\n",
        "Here is the rule:\n",
        "\n",
        "1. Bank must prioritize the largest denominations first to be issued.\n",
        "2. If there is a balance that cannot be cashed, the bank must inform it.\n",
        "3. Bank must calculate how many number of Paper Money needed and Coins needed.\n",
        "4. Banks can only disburse a maximum amount of 1 billion Rupiah\n",
        "\n",
        "\n",
        "\n",
        "Make a python code that receives an integer number of customer savings from 0 - 1 Billions.\n"
      ],
      "metadata": {
        "id": "v4yL2-lQ9B_E"
      }
    },
    {
      "cell_type": "code",
      "execution_count": null,
      "metadata": {
        "colab": {
          "base_uri": "https://localhost:8080/"
        },
        "id": "BadZYYvyin7Y",
        "outputId": "38ce9bcf-6264-4311-ab56-de6136e038f3"
      },
      "outputs": [
        {
          "output_type": "stream",
          "name": "stdout",
          "text": [
            "==========================\n",
            "|| Welcome to the Bank! ||\n",
            "==========================\n",
            "Enter an integer: 660765\n",
            "You entered: 660765\n"
          ]
        }
      ],
      "source": [
        "def calculate_money_distribution(savings):\n",
        "    # Max 1 billion\n",
        "    MAX_SAVINGS = 1000000000 #konstan\n",
        "\n",
        "    # List pecahan untuk uang kertas (descending)\n",
        "    paper_money = [100000, 50000, 20000, 10000, 5000, 2000]\n",
        "\n",
        "    # List pecahan uang koin (descending)\n",
        "    coins = [1000, 500, 200, 100]\n",
        "\n",
        "    if savings > MAX_SAVINGS:\n",
        "        print(f\"Maximum Saving is {MAX_SAVINGS}\")\n",
        "        return\n",
        "    elif savings < 0:\n",
        "        print(\"Please input the correct number(input > 0)\")\n",
        "        return\n",
        "\n",
        "    try:\n",
        "        original_savings = savings\n",
        "        total_paper_money = 0\n",
        "        total_coins = 0\n",
        "\n",
        "    #nyimpen jumlah tiap pecahan yang dibutuhkan, berapa nih pecahan ini dipake?\n",
        "        result = {}\n",
        "\n",
        "        # Ngehitung pecahan uang kertas\n",
        "        for bill in paper_money:\n",
        "            count = savings // bill\n",
        "            savings %= bill\n",
        "            result[f\"Rp {bill}\"] = count\n",
        "            total_paper_money += count\n",
        "\n",
        "        # Ngehitung pecahan uang koin\n",
        "        for coin in coins:\n",
        "            count = savings // coin\n",
        "            savings %= coin\n",
        "            result[f\"Rp {coin}\"] = count\n",
        "            total_coins += count\n",
        "\n",
        "        # nyetak hasilnya setiap satuan\n",
        "        print(\"\\n\")\n",
        "        for denomination, count in result.items():\n",
        "            print(f\"amount of currency {denomination}: {count}\")\n",
        "\n",
        "        # print jumlah total uang\n",
        "        print(f\"\\nTotal Paper Money: {total_paper_money}\")\n",
        "        print(f\"Total Coins: {total_coins}\")\n",
        "\n",
        "        # Sisa saldo yang gabisa ditarik\n",
        "        if savings > 0:\n",
        "            print(\"\\n\")\n",
        "            print(f\"Cannot be cashed out: {savings}\")\n",
        "\n",
        "    # Menangani error jika inputan selain int\n",
        "    except ValueError:\n",
        "        print(\"Error: the input should be integer!\")\n",
        "\n",
        "# Input\n",
        "print(\"==========================\")\n",
        "print(\"|| Welcome to the Bank! ||\")\n",
        "print(\"==========================\")\n",
        "try:\n",
        "    num = int(input(\"Enter an integer: \"))\n",
        "    print(\"You entered:\", num)\n",
        "\n",
        "except ValueError:\n",
        "    print(\"Error: the input should be integer!\")"
      ]
    },
    {
      "cell_type": "code",
      "source": [
        "# Menampilkan hasil distribusi uang\n",
        "try:\n",
        "    calculate_money_distribution(num)\n",
        "except NameError:\n",
        "    print(\"Error: the input should be integer!\")"
      ],
      "metadata": {
        "colab": {
          "base_uri": "https://localhost:8080/"
        },
        "id": "jC9mLViZi169",
        "outputId": "854d382d-25e0-4d73-ce20-413d0d9d4d18"
      },
      "execution_count": null,
      "outputs": [
        {
          "output_type": "stream",
          "name": "stdout",
          "text": [
            "\n",
            "\n",
            "amount of currency Rp 100000: 6\n",
            "amount of currency Rp 50000: 1\n",
            "amount of currency Rp 20000: 0\n",
            "amount of currency Rp 10000: 1\n",
            "amount of currency Rp 5000: 0\n",
            "amount of currency Rp 2000: 0\n",
            "amount of currency Rp 1000: 0\n",
            "amount of currency Rp 500: 1\n",
            "amount of currency Rp 200: 1\n",
            "amount of currency Rp 100: 0\n",
            "\n",
            "Total Paper Money: 8\n",
            "Total Coins: 2\n",
            "\n",
            "\n",
            "Cannot be cashed out: 65\n"
          ]
        }
      ]
    }
  ]
}